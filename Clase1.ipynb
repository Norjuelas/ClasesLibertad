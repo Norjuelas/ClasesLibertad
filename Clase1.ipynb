{
 "cells": [
  {
   "cell_type": "markdown",
   "id": "intro-markdown",
   "metadata": {},
   "source": [
    "# Clase de Programación para Análisis de Datos en Ciencias Políticas\n",
    "\n",
    "Durante la sesión veremos:\n",
    "- Conceptos básicos de Python.\n",
    "- Manejo de datos con la librería *pandas*.\n",
    "- Visualización de datos con *matplotlib*.\n",
    "\n",
    "¡Manos a la obra!"
   ]
  },
  {
   "cell_type": "markdown",
   "id": "python-basics",
   "metadata": {},
   "source": [
    "## 1. Introducción a Python y Conceptos Básicos\n",
    "\n",
    "En esta sección veremos cómo definir variables, trabajar con diferentes tipos de datos y realizar iteraciones. Usaremos una lista de partidos políticos como ejemplo."
   ]
  },
  {
   "cell_type": "code",
   "execution_count": null,
   "id": "basics-code",
   "metadata": {},
   "outputs": [],
   "source": [
    "# Ejemplo: Variables y tipos básicos\n",
    "nombre = \"Analista de Datos\"\n",
    "edad = 35\n",
    "es_estudiante = False\n",
    "\n",
    "print(f\"Nombre: {nombre}\")\n",
    "print(f\"Edad: {edad}\")\n",
    "print(f\"¿Es estudiante? {es_estudiante}\")\n",
    "\n",
    "# Lista de partidos políticos de ejemplo\n",
    "partidos = [\"Partido A\", \"Partido B\", \"Partido C\"]\n",
    "\n",
    "print(\"Listado de partidos:\")\n",
    "for partido in partidos:\n",
    "    print(f\"- {partido}\")"
   ]
  },
  {
   "cell_type": "markdown",
   "id": "pandas-intro",
   "metadata": {},
   "source": [
    "## 2. Introducción a *Pandas* y Exploración de Datos\n",
    "\n",
    "Utilizaremos la librería *pandas* para trabajar con datos. Como ejemplo, crearemos un DataFrame simulando información electoral (por ejemplo, votos para cada partido en diferentes regiones)."
   ]
  },
  {
   "cell_type": "code",
   "execution_count": null,
   "id": "pandas-code",
   "metadata": {},
   "outputs": [],
   "source": [
    "# Importamos pandas\n",
    "import pandas as pd\n",
    "\n",
    "# Creamos un DataFrame simulando datos electorales\n",
    "datos = {\n",
    "    \"Region\": [\"Norte\", \"Sur\", \"Este\", \"Oeste\"],\n",
    "    \"Partido A\": [1500, 2300, 1800, 2100],\n",
    "    \"Partido B\": [1200, 1900, 1600, 2000],\n",
    "    \"Partido C\": [900, 1100, 1300, 1700]\n",
    "}\n",
    "\n",
    "df = pd.DataFrame(datos)\n",
    "\n",
    "# Mostramos las primeras filas del DataFrame\n",
    "print(\"Primeras filas del DataFrame:\")\n",
    "display(df)\n",
    "\n",
    "# Análisis básico\n",
    "print(\"Descripción del DataFrame:\")\n",
    "display(df.describe())\n",
    "\n",
    "print(\"Información del DataFrame:\")\n",
    "display(df.info())"
   ]
  },
  {
   "cell_type": "markdown",
   "id": "matplotlib-intro",
   "metadata": {},
   "source": [
    "## 3. Visualización de Datos con Matplotlib\n",
    "\n",
    "En esta sección generaremos gráficos a partir de los datos del DataFrame. Visualizaremos, por ejemplo, la cantidad de votos de cada partido en las distintas regiones.\n",
    "\n",
    "Ejercicio: Generar un gráfico de barras que compare los votos por partido en cada región."
   ]
  },
  {
   "cell_type": "code",
   "execution_count": null,
   "id": "matplotlib-code",
   "metadata": {},
   "outputs": [],
   "source": [
    "# Importamos matplotlib\n",
    "import matplotlib.pyplot as plt\n",
    "\n",
    "# Configuramos el gráfico\n",
    "plt.figure(figsize=(10, 6))\n",
    "\n",
    "# Establecemos la posición de las barras para cada partido\n",
    "indice = range(len(df))\n",
    "bar_width = 0.2\n",
    "\n",
    "plt.bar([i - bar_width for i in indice], df[\"Partido A\"], width=bar_width, label=\"Partido A\")\n",
    "plt.bar(indice, df[\"Partido B\"], width=bar_width, label=\"Partido B\")\n",
    "plt.bar([i + bar_width for i in indice], df[\"Partido C\"], width=bar_width, label=\"Partido C\")\n",
    "\n",
    "# Etiquetas y título\n",
    "plt.xlabel(\"Región\")\n",
    "plt.ylabel(\"Número de Votos\")\n",
    "plt.title(\"Comparación de Votos por Partido en Cada Región\")\n",
    "plt.xticks(indice, df[\"Region\"])\n",
    "plt.legend()\n",
    "\n",
    "plt.show()"
   ]
  },
  {
   "cell_type": "markdown",
   "id": "challenge-exercise",
   "metadata": {},
   "source": [
    "## 4. Ejercicio Integrador\n",
    "\n",
    "Realiza el siguiente desafío:\n",
    "\n",
    "1. **Carga y explora datos:**\n",
    "   - Si dispones de un CSV relacionado con datos electorales o de opinión, cárgalo en un DataFrame usando `pd.read_csv()`. Si no, utiliza el DataFrame de ejemplo.\n",
    "\n",
    "2. **Limpieza y análisis exploratorio:**\n",
    "   - Revisa si existen valores nulos o datos atípicos.\n",
    "   - Utiliza métodos como `head()`, `describe()` e `info()` para explorar el DataFrame.\n",
    "\n",
    "3. **Visualización:**\n",
    "   - Crea al menos dos gráficos (por ejemplo, un gráfico de barras para comparar resultados y un gráfico de línea para ver tendencias) que te ayuden a interpretar los datos.\n",
    "\n",
    "Escribe y comenta tu código para explicar cada paso. Si tienes dudas, consulta la documentación o pregúntame."
   ]
  },
  {
   "cell_type": "code",
   "execution_count": null,
   "id": "challenge-code",
   "metadata": {},
   "outputs": [],
   "source": [
    "# Ejercicio Integrador: Puedes personalizar este código para tu análisis\n",
    "\n",
    "## Supongamos que volvemos a usar el DataFrame de ejemplo\n",
    "print(\"Datos del DataFrame:\")\n",
    "display(df)\n",
    "\n",
    "# Ejemplo: Comprobar si existen datos nulos\n",
    "print(\"Chequeo de datos nulos:\")\n",
    "display(df.isnull().sum())\n",
    "\n",
    "# Se puede agregar otro gráfico, por ejemplo, un gráfico de líneas para ver la tendencia de votos\n",
    "plt.figure(figsize=(10, 6))\n",
    "for partido in [\"Partido A\", \"Partido B\", \"Partido C\"]:\n",
    "    plt.plot(df[\"Region\"], df[partido], marker='o', label=partido)\n",
    "\n",
    "plt.xlabel(\"Región\")\n",
    "plt.ylabel(\"Número de Votos\")\n",
    "plt.title(\"Tendencia de Votos por Partido\")\n",
    "plt.legend()\n",
    "plt.show()"
   ]
  },
  {
   "cell_type": "markdown",
   "id": "conclusion",
   "metadata": {},
   "source": [
    "## Conclusión y Próximos Pasos\n",
    "\n",
    "En esta sesión aprendimos conceptos básicos de Python, exploramos datos utilizando *pandas* y visualizamos información con *matplotlib*. Repasa este notebook y experimenta con los ejemplos para familiarizarte con cada herramienta.\n",
    "\n",
    "¡Continúa explorando y preparándote para profundizar en análisis de datos aplicados a las ciencias políticas en las próximas clases!"
   ]
  }
 ],
 "metadata": {
  "kernelspec": {
   "display_name": "Python 3",
   "language": "python",
   "name": "python3"
  },
  "language_info": {
   "name": "python",
   "version": "3.x"
  }
 },
 "nbformat": 4,
 "nbformat_minor": 5
}
